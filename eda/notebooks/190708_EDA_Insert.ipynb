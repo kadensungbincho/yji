{
 "cells": [
  {
   "cell_type": "code",
   "execution_count": 2,
   "metadata": {},
   "outputs": [],
   "source": [
    "import pandas as pd\n",
    "import sqlalchemy"
   ]
  },
  {
   "cell_type": "code",
   "execution_count": 2,
   "metadata": {},
   "outputs": [
    {
     "data": {
      "text/plain": [
       "['reviews.csv',\n",
       " 'neighbourhoods.geojson',\n",
       " 'neighbourhoods.csv',\n",
       " 'listings.csv',\n",
       " 'calendar.csv']"
      ]
     },
     "execution_count": 2,
     "metadata": {},
     "output_type": "execute_result"
    }
   ],
   "source": [
    "DATA_DIR = '../../data'\n",
    "CONF_DIR = '../../conf'\n",
    "import os\n",
    "os.listdir(DATA_DIR)"
   ]
  },
  {
   "cell_type": "code",
   "execution_count": 6,
   "metadata": {},
   "outputs": [],
   "source": [
    "reviews_df = pd.read_csv(f\"{DATA_DIR}/reviews.csv\")"
   ]
  },
  {
   "cell_type": "code",
   "execution_count": 6,
   "metadata": {},
   "outputs": [
    {
     "data": {
      "text/plain": [
       "(1120163, 6)"
      ]
     },
     "execution_count": 6,
     "metadata": {},
     "output_type": "execute_result"
    }
   ],
   "source": [
    "reviews_df.shape"
   ]
  },
  {
   "cell_type": "code",
   "execution_count": 7,
   "metadata": {},
   "outputs": [
    {
     "data": {
      "text/html": [
       "<div>\n",
       "<style scoped>\n",
       "    .dataframe tbody tr th:only-of-type {\n",
       "        vertical-align: middle;\n",
       "    }\n",
       "\n",
       "    .dataframe tbody tr th {\n",
       "        vertical-align: top;\n",
       "    }\n",
       "\n",
       "    .dataframe thead th {\n",
       "        text-align: right;\n",
       "    }\n",
       "</style>\n",
       "<table border=\"1\" class=\"dataframe\">\n",
       "  <thead>\n",
       "    <tr style=\"text-align: right;\">\n",
       "      <th></th>\n",
       "      <th>listing_id</th>\n",
       "      <th>id</th>\n",
       "      <th>date</th>\n",
       "      <th>reviewer_id</th>\n",
       "      <th>reviewer_name</th>\n",
       "      <th>comments</th>\n",
       "    </tr>\n",
       "  </thead>\n",
       "  <tbody>\n",
       "    <tr>\n",
       "      <th>0</th>\n",
       "      <td>2539</td>\n",
       "      <td>55688172</td>\n",
       "      <td>2015-12-04</td>\n",
       "      <td>25160947</td>\n",
       "      <td>Peter</td>\n",
       "      <td>Great host</td>\n",
       "    </tr>\n",
       "    <tr>\n",
       "      <th>1</th>\n",
       "      <td>2539</td>\n",
       "      <td>97474898</td>\n",
       "      <td>2016-08-27</td>\n",
       "      <td>91513326</td>\n",
       "      <td>Liz</td>\n",
       "      <td>Nice room for the price. Great neighborhood. J...</td>\n",
       "    </tr>\n",
       "    <tr>\n",
       "      <th>2</th>\n",
       "      <td>2539</td>\n",
       "      <td>105340344</td>\n",
       "      <td>2016-10-01</td>\n",
       "      <td>90022459</td>\n",
       "      <td>Евгений</td>\n",
       "      <td>Very nice apt.  New remodeled.</td>\n",
       "    </tr>\n",
       "    <tr>\n",
       "      <th>3</th>\n",
       "      <td>2539</td>\n",
       "      <td>133131670</td>\n",
       "      <td>2017-02-20</td>\n",
       "      <td>116165195</td>\n",
       "      <td>George</td>\n",
       "      <td>Great place to stay for a while. John is a gre...</td>\n",
       "    </tr>\n",
       "    <tr>\n",
       "      <th>4</th>\n",
       "      <td>2539</td>\n",
       "      <td>138349776</td>\n",
       "      <td>2017-03-19</td>\n",
       "      <td>118432644</td>\n",
       "      <td>Carlos</td>\n",
       "      <td>.</td>\n",
       "    </tr>\n",
       "  </tbody>\n",
       "</table>\n",
       "</div>"
      ],
      "text/plain": [
       "   listing_id         id        date  reviewer_id reviewer_name  \\\n",
       "0        2539   55688172  2015-12-04     25160947         Peter   \n",
       "1        2539   97474898  2016-08-27     91513326           Liz   \n",
       "2        2539  105340344  2016-10-01     90022459       Евгений   \n",
       "3        2539  133131670  2017-02-20    116165195        George   \n",
       "4        2539  138349776  2017-03-19    118432644        Carlos   \n",
       "\n",
       "                                            comments  \n",
       "0                                        Great host   \n",
       "1  Nice room for the price. Great neighborhood. J...  \n",
       "2                     Very nice apt.  New remodeled.  \n",
       "3  Great place to stay for a while. John is a gre...  \n",
       "4                                                  .  "
      ]
     },
     "execution_count": 7,
     "metadata": {},
     "output_type": "execute_result"
    }
   ],
   "source": [
    "reviews_df.head()"
   ]
  },
  {
   "cell_type": "code",
   "execution_count": 7,
   "metadata": {},
   "outputs": [],
   "source": [
    "ngh_df = pd.read_csv('../data/neighbourhoods.csv')"
   ]
  },
  {
   "cell_type": "code",
   "execution_count": 9,
   "metadata": {},
   "outputs": [
    {
     "data": {
      "text/plain": [
       "(230, 2)"
      ]
     },
     "execution_count": 9,
     "metadata": {},
     "output_type": "execute_result"
    }
   ],
   "source": [
    "ngh_df.shape"
   ]
  },
  {
   "cell_type": "code",
   "execution_count": 12,
   "metadata": {},
   "outputs": [
    {
     "data": {
      "text/html": [
       "<div>\n",
       "<style scoped>\n",
       "    .dataframe tbody tr th:only-of-type {\n",
       "        vertical-align: middle;\n",
       "    }\n",
       "\n",
       "    .dataframe tbody tr th {\n",
       "        vertical-align: top;\n",
       "    }\n",
       "\n",
       "    .dataframe thead th {\n",
       "        text-align: right;\n",
       "    }\n",
       "</style>\n",
       "<table border=\"1\" class=\"dataframe\">\n",
       "  <thead>\n",
       "    <tr style=\"text-align: right;\">\n",
       "      <th></th>\n",
       "      <th>neighbourhood_group</th>\n",
       "      <th>neighbourhood</th>\n",
       "    </tr>\n",
       "  </thead>\n",
       "  <tbody>\n",
       "    <tr>\n",
       "      <th>0</th>\n",
       "      <td>Bronx</td>\n",
       "      <td>Allerton</td>\n",
       "    </tr>\n",
       "    <tr>\n",
       "      <th>1</th>\n",
       "      <td>Bronx</td>\n",
       "      <td>Baychester</td>\n",
       "    </tr>\n",
       "    <tr>\n",
       "      <th>2</th>\n",
       "      <td>Bronx</td>\n",
       "      <td>Belmont</td>\n",
       "    </tr>\n",
       "    <tr>\n",
       "      <th>3</th>\n",
       "      <td>Bronx</td>\n",
       "      <td>Bronxdale</td>\n",
       "    </tr>\n",
       "    <tr>\n",
       "      <th>4</th>\n",
       "      <td>Bronx</td>\n",
       "      <td>Castle Hill</td>\n",
       "    </tr>\n",
       "    <tr>\n",
       "      <th>5</th>\n",
       "      <td>Bronx</td>\n",
       "      <td>City Island</td>\n",
       "    </tr>\n",
       "    <tr>\n",
       "      <th>6</th>\n",
       "      <td>Bronx</td>\n",
       "      <td>Claremont Village</td>\n",
       "    </tr>\n",
       "    <tr>\n",
       "      <th>7</th>\n",
       "      <td>Bronx</td>\n",
       "      <td>Clason Point</td>\n",
       "    </tr>\n",
       "    <tr>\n",
       "      <th>8</th>\n",
       "      <td>Bronx</td>\n",
       "      <td>Concourse</td>\n",
       "    </tr>\n",
       "    <tr>\n",
       "      <th>9</th>\n",
       "      <td>Bronx</td>\n",
       "      <td>Concourse Village</td>\n",
       "    </tr>\n",
       "  </tbody>\n",
       "</table>\n",
       "</div>"
      ],
      "text/plain": [
       "  neighbourhood_group      neighbourhood\n",
       "0               Bronx           Allerton\n",
       "1               Bronx         Baychester\n",
       "2               Bronx            Belmont\n",
       "3               Bronx          Bronxdale\n",
       "4               Bronx        Castle Hill\n",
       "5               Bronx        City Island\n",
       "6               Bronx  Claremont Village\n",
       "7               Bronx       Clason Point\n",
       "8               Bronx          Concourse\n",
       "9               Bronx  Concourse Village"
      ]
     },
     "execution_count": 12,
     "metadata": {},
     "output_type": "execute_result"
    }
   ],
   "source": [
    "ngh_df.head(10)"
   ]
  },
  {
   "cell_type": "code",
   "execution_count": 8,
   "metadata": {},
   "outputs": [
    {
     "name": "stderr",
     "output_type": "stream",
     "text": [
      "/Users/kaden.cho/.pyenv/versions/3.7.1/lib/python3.7/site-packages/IPython/core/interactiveshell.py:3020: DtypeWarning: Columns (43,61,62,94,95) have mixed types. Specify dtype option on import or set low_memory=False.\n",
      "  interactivity=interactivity, compiler=compiler, result=result)\n"
     ]
    }
   ],
   "source": [
    "listings_df = pd.read_csv('../data/listings.csv')"
   ]
  },
  {
   "cell_type": "code",
   "execution_count": 15,
   "metadata": {},
   "outputs": [
    {
     "data": {
      "text/plain": [
       "(48801, 106)"
      ]
     },
     "execution_count": 15,
     "metadata": {},
     "output_type": "execute_result"
    }
   ],
   "source": [
    "listings_df.shape"
   ]
  },
  {
   "cell_type": "code",
   "execution_count": 16,
   "metadata": {},
   "outputs": [
    {
     "data": {
      "text/html": [
       "<div>\n",
       "<style scoped>\n",
       "    .dataframe tbody tr th:only-of-type {\n",
       "        vertical-align: middle;\n",
       "    }\n",
       "\n",
       "    .dataframe tbody tr th {\n",
       "        vertical-align: top;\n",
       "    }\n",
       "\n",
       "    .dataframe thead th {\n",
       "        text-align: right;\n",
       "    }\n",
       "</style>\n",
       "<table border=\"1\" class=\"dataframe\">\n",
       "  <thead>\n",
       "    <tr style=\"text-align: right;\">\n",
       "      <th></th>\n",
       "      <th>id</th>\n",
       "      <th>listing_url</th>\n",
       "      <th>scrape_id</th>\n",
       "      <th>last_scraped</th>\n",
       "      <th>name</th>\n",
       "      <th>summary</th>\n",
       "      <th>space</th>\n",
       "      <th>description</th>\n",
       "      <th>experiences_offered</th>\n",
       "      <th>neighborhood_overview</th>\n",
       "      <th>...</th>\n",
       "      <th>instant_bookable</th>\n",
       "      <th>is_business_travel_ready</th>\n",
       "      <th>cancellation_policy</th>\n",
       "      <th>require_guest_profile_picture</th>\n",
       "      <th>require_guest_phone_verification</th>\n",
       "      <th>calculated_host_listings_count</th>\n",
       "      <th>calculated_host_listings_count_entire_homes</th>\n",
       "      <th>calculated_host_listings_count_private_rooms</th>\n",
       "      <th>calculated_host_listings_count_shared_rooms</th>\n",
       "      <th>reviews_per_month</th>\n",
       "    </tr>\n",
       "  </thead>\n",
       "  <tbody>\n",
       "    <tr>\n",
       "      <th>0</th>\n",
       "      <td>2539</td>\n",
       "      <td>https://www.airbnb.com/rooms/2539</td>\n",
       "      <td>20190602163209</td>\n",
       "      <td>2019-06-03</td>\n",
       "      <td>Clean &amp; quiet apt home by the park</td>\n",
       "      <td>Renovated apt home in elevator building.</td>\n",
       "      <td>Spacious, renovated, and clean apt home, one b...</td>\n",
       "      <td>Renovated apt home in elevator building. Spaci...</td>\n",
       "      <td>none</td>\n",
       "      <td>Close to Prospect Park and Historic Ditmas Park</td>\n",
       "      <td>...</td>\n",
       "      <td>f</td>\n",
       "      <td>f</td>\n",
       "      <td>moderate</td>\n",
       "      <td>f</td>\n",
       "      <td>f</td>\n",
       "      <td>6</td>\n",
       "      <td>0</td>\n",
       "      <td>5</td>\n",
       "      <td>1</td>\n",
       "      <td>0.21</td>\n",
       "    </tr>\n",
       "    <tr>\n",
       "      <th>1</th>\n",
       "      <td>2595</td>\n",
       "      <td>https://www.airbnb.com/rooms/2595</td>\n",
       "      <td>20190602163209</td>\n",
       "      <td>2019-06-03</td>\n",
       "      <td>Skylit Midtown Castle</td>\n",
       "      <td>Find your romantic getaway to this beautiful, ...</td>\n",
       "      <td>- Spacious (500+ft²), immaculate and nicely fu...</td>\n",
       "      <td>Find your romantic getaway to this beautiful, ...</td>\n",
       "      <td>none</td>\n",
       "      <td>Centrally located in the heart of Manhattan ju...</td>\n",
       "      <td>...</td>\n",
       "      <td>f</td>\n",
       "      <td>f</td>\n",
       "      <td>strict_14_with_grace_period</td>\n",
       "      <td>t</td>\n",
       "      <td>t</td>\n",
       "      <td>2</td>\n",
       "      <td>1</td>\n",
       "      <td>0</td>\n",
       "      <td>1</td>\n",
       "      <td>0.38</td>\n",
       "    </tr>\n",
       "    <tr>\n",
       "      <th>2</th>\n",
       "      <td>3647</td>\n",
       "      <td>https://www.airbnb.com/rooms/3647</td>\n",
       "      <td>20190602163209</td>\n",
       "      <td>2019-06-03</td>\n",
       "      <td>THE VILLAGE OF HARLEM....NEW YORK !</td>\n",
       "      <td>NaN</td>\n",
       "      <td>WELCOME TO OUR INTERNATIONAL URBAN COMMUNITY T...</td>\n",
       "      <td>WELCOME TO OUR INTERNATIONAL URBAN COMMUNITY T...</td>\n",
       "      <td>none</td>\n",
       "      <td>NaN</td>\n",
       "      <td>...</td>\n",
       "      <td>f</td>\n",
       "      <td>f</td>\n",
       "      <td>strict_14_with_grace_period</td>\n",
       "      <td>t</td>\n",
       "      <td>t</td>\n",
       "      <td>1</td>\n",
       "      <td>0</td>\n",
       "      <td>1</td>\n",
       "      <td>0</td>\n",
       "      <td>NaN</td>\n",
       "    </tr>\n",
       "    <tr>\n",
       "      <th>3</th>\n",
       "      <td>3831</td>\n",
       "      <td>https://www.airbnb.com/rooms/3831</td>\n",
       "      <td>20190602163209</td>\n",
       "      <td>2019-06-03</td>\n",
       "      <td>Cozy Entire Floor of Brownstone</td>\n",
       "      <td>Urban retreat: enjoy 500 s.f. floor in 1899 br...</td>\n",
       "      <td>Greetings!      We own a double-duplex brownst...</td>\n",
       "      <td>Urban retreat: enjoy 500 s.f. floor in 1899 br...</td>\n",
       "      <td>none</td>\n",
       "      <td>Just the right mix of urban center and local n...</td>\n",
       "      <td>...</td>\n",
       "      <td>f</td>\n",
       "      <td>f</td>\n",
       "      <td>moderate</td>\n",
       "      <td>f</td>\n",
       "      <td>f</td>\n",
       "      <td>1</td>\n",
       "      <td>1</td>\n",
       "      <td>0</td>\n",
       "      <td>0</td>\n",
       "      <td>4.53</td>\n",
       "    </tr>\n",
       "    <tr>\n",
       "      <th>4</th>\n",
       "      <td>4989</td>\n",
       "      <td>https://www.airbnb.com/rooms/4989</td>\n",
       "      <td>20190602163209</td>\n",
       "      <td>2019-06-03</td>\n",
       "      <td>Great 1 bdrm. apartment in the PERFECT location!</td>\n",
       "      <td>Best location in NYC (the greatest city in the...</td>\n",
       "      <td>Quiet, artsy, 1 bdrm. apt. in Hell's Kitchen (...</td>\n",
       "      <td>Best location in NYC (the greatest city in the...</td>\n",
       "      <td>none</td>\n",
       "      <td>Hell's Kitchen is a safe, popular, and desirab...</td>\n",
       "      <td>...</td>\n",
       "      <td>f</td>\n",
       "      <td>f</td>\n",
       "      <td>strict_14_with_grace_period</td>\n",
       "      <td>f</td>\n",
       "      <td>f</td>\n",
       "      <td>1</td>\n",
       "      <td>1</td>\n",
       "      <td>0</td>\n",
       "      <td>0</td>\n",
       "      <td>0.24</td>\n",
       "    </tr>\n",
       "  </tbody>\n",
       "</table>\n",
       "<p>5 rows × 106 columns</p>\n",
       "</div>"
      ],
      "text/plain": [
       "     id                        listing_url       scrape_id last_scraped  \\\n",
       "0  2539  https://www.airbnb.com/rooms/2539  20190602163209   2019-06-03   \n",
       "1  2595  https://www.airbnb.com/rooms/2595  20190602163209   2019-06-03   \n",
       "2  3647  https://www.airbnb.com/rooms/3647  20190602163209   2019-06-03   \n",
       "3  3831  https://www.airbnb.com/rooms/3831  20190602163209   2019-06-03   \n",
       "4  4989  https://www.airbnb.com/rooms/4989  20190602163209   2019-06-03   \n",
       "\n",
       "                                               name  \\\n",
       "0                Clean & quiet apt home by the park   \n",
       "1                             Skylit Midtown Castle   \n",
       "2               THE VILLAGE OF HARLEM....NEW YORK !   \n",
       "3                   Cozy Entire Floor of Brownstone   \n",
       "4  Great 1 bdrm. apartment in the PERFECT location!   \n",
       "\n",
       "                                             summary  \\\n",
       "0           Renovated apt home in elevator building.   \n",
       "1  Find your romantic getaway to this beautiful, ...   \n",
       "2                                                NaN   \n",
       "3  Urban retreat: enjoy 500 s.f. floor in 1899 br...   \n",
       "4  Best location in NYC (the greatest city in the...   \n",
       "\n",
       "                                               space  \\\n",
       "0  Spacious, renovated, and clean apt home, one b...   \n",
       "1  - Spacious (500+ft²), immaculate and nicely fu...   \n",
       "2  WELCOME TO OUR INTERNATIONAL URBAN COMMUNITY T...   \n",
       "3  Greetings!      We own a double-duplex brownst...   \n",
       "4  Quiet, artsy, 1 bdrm. apt. in Hell's Kitchen (...   \n",
       "\n",
       "                                         description experiences_offered  \\\n",
       "0  Renovated apt home in elevator building. Spaci...                none   \n",
       "1  Find your romantic getaway to this beautiful, ...                none   \n",
       "2  WELCOME TO OUR INTERNATIONAL URBAN COMMUNITY T...                none   \n",
       "3  Urban retreat: enjoy 500 s.f. floor in 1899 br...                none   \n",
       "4  Best location in NYC (the greatest city in the...                none   \n",
       "\n",
       "                               neighborhood_overview        ...          \\\n",
       "0    Close to Prospect Park and Historic Ditmas Park        ...           \n",
       "1  Centrally located in the heart of Manhattan ju...        ...           \n",
       "2                                                NaN        ...           \n",
       "3  Just the right mix of urban center and local n...        ...           \n",
       "4  Hell's Kitchen is a safe, popular, and desirab...        ...           \n",
       "\n",
       "  instant_bookable is_business_travel_ready          cancellation_policy  \\\n",
       "0                f                        f                     moderate   \n",
       "1                f                        f  strict_14_with_grace_period   \n",
       "2                f                        f  strict_14_with_grace_period   \n",
       "3                f                        f                     moderate   \n",
       "4                f                        f  strict_14_with_grace_period   \n",
       "\n",
       "  require_guest_profile_picture require_guest_phone_verification  \\\n",
       "0                             f                                f   \n",
       "1                             t                                t   \n",
       "2                             t                                t   \n",
       "3                             f                                f   \n",
       "4                             f                                f   \n",
       "\n",
       "   calculated_host_listings_count  \\\n",
       "0                               6   \n",
       "1                               2   \n",
       "2                               1   \n",
       "3                               1   \n",
       "4                               1   \n",
       "\n",
       "   calculated_host_listings_count_entire_homes  \\\n",
       "0                                            0   \n",
       "1                                            1   \n",
       "2                                            0   \n",
       "3                                            1   \n",
       "4                                            1   \n",
       "\n",
       "  calculated_host_listings_count_private_rooms  \\\n",
       "0                                            5   \n",
       "1                                            0   \n",
       "2                                            1   \n",
       "3                                            0   \n",
       "4                                            0   \n",
       "\n",
       "   calculated_host_listings_count_shared_rooms  reviews_per_month  \n",
       "0                                            1               0.21  \n",
       "1                                            1               0.38  \n",
       "2                                            0                NaN  \n",
       "3                                            0               4.53  \n",
       "4                                            0               0.24  \n",
       "\n",
       "[5 rows x 106 columns]"
      ]
     },
     "execution_count": 16,
     "metadata": {},
     "output_type": "execute_result"
    }
   ],
   "source": [
    "listings_df.head()"
   ]
  },
  {
   "cell_type": "code",
   "execution_count": 17,
   "metadata": {},
   "outputs": [
    {
     "data": {
      "text/plain": [
       "Index(['id', 'listing_url', 'scrape_id', 'last_scraped', 'name', 'summary',\n",
       "       'space', 'description', 'experiences_offered', 'neighborhood_overview',\n",
       "       ...\n",
       "       'instant_bookable', 'is_business_travel_ready', 'cancellation_policy',\n",
       "       'require_guest_profile_picture', 'require_guest_phone_verification',\n",
       "       'calculated_host_listings_count',\n",
       "       'calculated_host_listings_count_entire_homes',\n",
       "       'calculated_host_listings_count_private_rooms',\n",
       "       'calculated_host_listings_count_shared_rooms', 'reviews_per_month'],\n",
       "      dtype='object', length=106)"
      ]
     },
     "execution_count": 17,
     "metadata": {},
     "output_type": "execute_result"
    }
   ],
   "source": [
    "listings_df.columns"
   ]
  },
  {
   "cell_type": "code",
   "execution_count": 10,
   "metadata": {},
   "outputs": [],
   "source": [
    "calendar_df = pd.read_csv('../data/calendar.csv')"
   ]
  },
  {
   "cell_type": "code",
   "execution_count": 19,
   "metadata": {},
   "outputs": [
    {
     "data": {
      "text/plain": [
       "(17812547, 7)"
      ]
     },
     "execution_count": 19,
     "metadata": {},
     "output_type": "execute_result"
    }
   ],
   "source": [
    "calendar_df.shape"
   ]
  },
  {
   "cell_type": "code",
   "execution_count": 9,
   "metadata": {},
   "outputs": [
    {
     "ename": "NameError",
     "evalue": "name 'calendar_df' is not defined",
     "output_type": "error",
     "traceback": [
      "\u001b[0;31m---------------------------------------------------------------------------\u001b[0m",
      "\u001b[0;31mNameError\u001b[0m                                 Traceback (most recent call last)",
      "\u001b[0;32m<ipython-input-9-ae9e3fc12eab>\u001b[0m in \u001b[0;36m<module>\u001b[0;34m\u001b[0m\n\u001b[0;32m----> 1\u001b[0;31m \u001b[0mcalendar_df\u001b[0m\u001b[0;34m.\u001b[0m\u001b[0mhead\u001b[0m\u001b[0;34m(\u001b[0m\u001b[0;34m)\u001b[0m\u001b[0;34m\u001b[0m\u001b[0;34m\u001b[0m\u001b[0m\n\u001b[0m",
      "\u001b[0;31mNameError\u001b[0m: name 'calendar_df' is not defined"
     ]
    }
   ],
   "source": [
    "calendar_df.head()"
   ]
  },
  {
   "cell_type": "code",
   "execution_count": 15,
   "metadata": {},
   "outputs": [],
   "source": [
    "import json\n",
    "with open('../conf/mariadb.json', 'r') as f:\n",
    "    conf = json.load(f)"
   ]
  },
  {
   "cell_type": "code",
   "execution_count": 5,
   "metadata": {},
   "outputs": [],
   "source": [
    "username = conf['username']\n",
    "password = conf['password']\n",
    "ip = conf['host']\n",
    "db = conf['db']\n",
    "con = sqlalchemy.create_engine(f\"mysql+pymysql://{username}:{password}@{ip}/{db}\")"
   ]
  },
  {
   "cell_type": "code",
   "execution_count": 12,
   "metadata": {},
   "outputs": [],
   "source": [
    "reviews_df.to_sql(con=con, name='reviews', if_exists='replace')"
   ]
  },
  {
   "cell_type": "code",
   "execution_count": 13,
   "metadata": {},
   "outputs": [],
   "source": [
    "listings_df.to_sql(con=con, name='listings', if_exists='replace')"
   ]
  },
  {
   "cell_type": "code",
   "execution_count": 17,
   "metadata": {},
   "outputs": [],
   "source": [
    "ngh_df.to_sql(con=con, name='neighbor', if_exists='replace')"
   ]
  },
  {
   "cell_type": "code",
   "execution_count": 19,
   "metadata": {},
   "outputs": [],
   "source": [
    "# slow\n",
    "# calendar_df.to_sql(con=con, name='calendar', if_exists='replace')"
   ]
  },
  {
   "cell_type": "code",
   "execution_count": null,
   "metadata": {},
   "outputs": [],
   "source": []
  }
 ],
 "metadata": {
  "kernelspec": {
   "display_name": "Python 3",
   "language": "python",
   "name": "python3"
  },
  "language_info": {
   "codemirror_mode": {
    "name": "ipython",
    "version": 3
   },
   "file_extension": ".py",
   "mimetype": "text/x-python",
   "name": "python",
   "nbconvert_exporter": "python",
   "pygments_lexer": "ipython3",
   "version": "3.7.1"
  }
 },
 "nbformat": 4,
 "nbformat_minor": 2
}
